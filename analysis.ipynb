{
 "cells": [
  {
   "cell_type": "markdown",
   "metadata": {},
   "source": [
    "# 20 km of Brussels 2017"
   ]
  },
  {
   "cell_type": "code",
   "execution_count": 1,
   "metadata": {
    "collapsed": true
   },
   "outputs": [],
   "source": [
    "import pandas as pd\n",
    "import requests\n",
    "import json\n",
    "from datetime import datetime\n",
    "from datetime import timedelta\n",
    "import matplotlib.pyplot as plt\n",
    "import numpy as np"
   ]
  },
  {
   "cell_type": "markdown",
   "metadata": {},
   "source": [
    "## Data Download & Preparation"
   ]
  },
  {
   "cell_type": "code",
   "execution_count": 2,
   "metadata": {
    "collapsed": true
   },
   "outputs": [],
   "source": [
    "url = \"http://prod.chronorace.be/api/Results/20km/Search?eventId=1187794680566157&year=2017&search=&race=1&gender=&yearOfBirth=&category=&nationality=&province=&postalCode=&team=&isInitial=1&maxEntries=36538&fromEntry=0&_=1496138014817\"\n",
    "data = requests.get(url).json()\n",
    "data_bis = data['Matches']\n",
    "data_fin = pd.DataFrame.from_records(data_bis)"
   ]
  },
  {
   "cell_type": "markdown",
   "metadata": {},
   "source": [
    "### Finisher Statistics"
   ]
  },
  {
   "cell_type": "code",
   "execution_count": 152,
   "metadata": {
    "collapsed": false
   },
   "outputs": [],
   "source": [
    "data_fin.loc[:, 'finished'] = data_fin['x_time'] != '-' \n",
    "finish_cat = data_fin.groupby(['finished']).size().reset_index()\n",
    "finish_sexe = data_fin.groupby(['finished', 'sexe']).size().reset_index()"
   ]
  },
  {
   "cell_type": "code",
   "execution_count": 157,
   "metadata": {
    "collapsed": false
   },
   "outputs": [
    {
     "name": "stdout",
     "output_type": "stream",
     "text": [
      "3    0.770908\n",
      "Name: 0, dtype: float64\n",
      "4    0.79147\n",
      "Name: 0, dtype: float64\n"
     ]
    }
   ],
   "source": [
    "print(finish_sexe.loc[(finish_sexe['finished'] == True) & (finish_sexe['sexe'] == 'F'), 0] / finish_sexe.loc[(finish_sexe['sexe'] == 'F'), 0].sum())\n",
    "print(finish_sexe.loc[(finish_sexe['finished'] == True) & (finish_sexe['sexe'] == 'M'), 0] / finish_sexe.loc[(finish_sexe['sexe'] == 'M'), 0].sum())"
   ]
  },
  {
   "cell_type": "code",
   "execution_count": 95,
   "metadata": {
    "collapsed": false
   },
   "outputs": [
    {
     "name": "stdout",
     "output_type": "stream",
     "text": [
      "Number of people that finished the run: 28690\n",
      "Number of people that did not finish the run: 7848\n"
     ]
    }
   ],
   "source": [
    "print(\"Number of people that finished the run: {}\".format(finisher.shape[0]))\n",
    "print(\"Number of people that did not finish the run: {}\".format(data_fin.shape[0] - finisher.shape[0]))"
   ]
  },
  {
   "cell_type": "code",
   "execution_count": 93,
   "metadata": {
    "collapsed": false
   },
   "outputs": [
    {
     "name": "stderr",
     "output_type": "stream",
     "text": [
      "/Users/maximedebruyn/anaconda2/lib/python2.7/site-packages/ipykernel/__main__.py:2: SettingWithCopyWarning: \n",
      "A value is trying to be set on a copy of a slice from a DataFrame.\n",
      "Try using .loc[row_indexer,col_indexer] = value instead\n",
      "\n",
      "See the caveats in the documentation: http://pandas.pydata.org/pandas-docs/stable/indexing.html#indexing-view-versus-copy\n",
      "  from ipykernel import kernelapp as app\n"
     ]
    }
   ],
   "source": [
    "finisher = data_fin.loc[data_fin['x_time'] != '-', :]\n",
    "finisher['radius'] = 1\n",
    "finisher.loc[:, 'time'] = finisher['x_time'].apply(lambda x: datetime.strptime(x, '%H:%M:%S'))\n",
    "finisher.loc[:, 'time'] = finisher['x_time'].apply(lambda x: datetime.strptime(x, '%H:%M:%S'))\n",
    "finisher.loc[:, 'minutes'] = finisher['time'].apply(lambda x: x.hour*60 + x.minute + x.second/60)"
   ]
  },
  {
   "cell_type": "code",
   "execution_count": 119,
   "metadata": {
    "collapsed": false
   },
   "outputs": [],
   "source": [
    "finisher = finisher[finisher['sexe'] != u'Ù']"
   ]
  },
  {
   "cell_type": "markdown",
   "metadata": {},
   "source": [
    "### Run Time Bucket"
   ]
  },
  {
   "cell_type": "code",
   "execution_count": 120,
   "metadata": {
    "collapsed": false,
    "scrolled": true
   },
   "outputs": [],
   "source": [
    "# Should bucket by total minutes\n",
    "bins = [0, 60, 70, 80, 90, 100, 110, 120, 130, 140, 150, 160, 170, 180, 1000]\n",
    "labels = ['<1h00', '1h00 - 1h10', '1h10 - 1h20', '1h20 - 1h30', '1h30 - 1h40', '1h40 - 1h50', '1h50 - 2h00', '2h00 - 2h10', '2h10 - 2h20', '2h20 - 2h30', '2h30 - 2h40', '2h40 - 2h50', '2h50 - 3h00', '>3h00']\n",
    "finisher['categories'] = pd.cut(finisher['minutes'], bins, labels=labels)\n",
    "time_cat = finisher.groupby(['categories']).size().reset_index()\n",
    "time_cat_sexe = finisher.groupby(['categories', 'sexe']).size().reset_index()\n",
    "average_men = finisher.loc[finisher['sexe'] == 'M', 'minutes'].mean()\n",
    "average_women = finisher.loc[finisher['sexe'] == 'F', 'minutes'].mean()\n",
    "average_total = finisher.loc[:, 'minutes'].mean()\n",
    "average_men = finisher.loc[finisher['sexe'] == 'M', 'minutes'].mean()\n",
    "average_women = finisher.loc[finisher['sexe'] == 'F', 'minutes'].mean()"
   ]
  },
  {
   "cell_type": "code",
   "execution_count": 160,
   "metadata": {
    "collapsed": false
   },
   "outputs": [
    {
     "name": "stdout",
     "output_type": "stream",
     "text": [
      "2:00:44.095\n",
      "1:55:10.912\n",
      "2:13:48.608\n"
     ]
    }
   ],
   "source": [
    "print(str(timedelta(minutes=average_total))[:-3])\n",
    "print(str(timedelta(minutes=average_men))[:-3])\n",
    "print(str(timedelta(minutes=average_women))[:-3])"
   ]
  },
  {
   "cell_type": "markdown",
   "metadata": {},
   "source": [
    "### Box Bucket"
   ]
  },
  {
   "cell_type": "code",
   "execution_count": 121,
   "metadata": {
    "collapsed": false
   },
   "outputs": [],
   "source": [
    "bins = [0, 6000, 12000, 18000, 24000, 33000, 42000]\n",
    "labels = ['Box 1', 'Box 2', 'Box 3', 'Box 4', 'Box 5', 'Box 6']\n",
    "finisher.loc[:, 'box'] = pd.cut(finisher['bib'], bins, labels=labels)"
   ]
  },
  {
   "cell_type": "code",
   "execution_count": 168,
   "metadata": {
    "collapsed": false
   },
   "outputs": [],
   "source": [
    "box_cat = finisher.groupby(['box']).agg(['mean', 'std']).reset_index()\n",
    "box_cat_sexe = finisher.groupby(['box', 'sexe']).agg(['mean', 'std']).reset_index()"
   ]
  },
  {
   "cell_type": "markdown",
   "metadata": {},
   "source": [
    "### Age Bucket"
   ]
  },
  {
   "cell_type": "code",
   "execution_count": 98,
   "metadata": {
    "collapsed": false
   },
   "outputs": [],
   "source": [
    "def cast_age(row):\n",
    "    try:\n",
    "        return float(row['x_age'])\n",
    "    except:\n",
    "        return row['x_age']"
   ]
  },
  {
   "cell_type": "code",
   "execution_count": 107,
   "metadata": {
    "collapsed": false
   },
   "outputs": [],
   "source": [
    "finisher.loc[:,'age'] = finisher.apply(cast_age, axis=1)"
   ]
  },
  {
   "cell_type": "code",
   "execution_count": 137,
   "metadata": {
    "collapsed": true
   },
   "outputs": [],
   "source": [
    "bins = [0, 20, 25, 30, 35, 40, 45, 50, 55, 60, 65, 100]\n",
    "labels = ['0 - 20', '21 - 25', '26 - 30', '31 - 35', '36 - 40', '41 - 45', '46 - 50', '51 - 55', '56 - 60', '61 - 65', '65+']\n",
    "finisher.loc[:, 'age_box'] = pd.cut(finisher['age'], bins, labels=labels)"
   ]
  },
  {
   "cell_type": "code",
   "execution_count": 139,
   "metadata": {
    "collapsed": false
   },
   "outputs": [],
   "source": [
    "age_cat = finisher.groupby(['age_box']).agg('mean').reset_index()\n",
    "age_cat_sexe = finisher.groupby(['age_box', 'sexe']).agg('mean').reset_index()"
   ]
  },
  {
   "cell_type": "code",
   "execution_count": 144,
   "metadata": {
    "collapsed": false
   },
   "outputs": [
    {
     "data": {
      "text/plain": [
       "array([ 112.71632896,  111.5027137 ,  111.87660592,  112.92153589,\n",
       "        113.27851645,  114.53630164,  115.87263763,  119.67545305,\n",
       "        122.20633484,  128.99785867,  145.28897338])"
      ]
     },
     "execution_count": 144,
     "metadata": {},
     "output_type": "execute_result"
    }
   ],
   "source": [
    "age_cat_sexe.ix[age_cat_sexe['sexe'] == \"M\", 5].values"
   ]
  },
  {
   "cell_type": "code",
   "execution_count": 174,
   "metadata": {
    "collapsed": false
   },
   "outputs": [
    {
     "data": {
      "text/plain": [
       "0.02004035084662047"
      ]
     },
     "execution_count": 174,
     "metadata": {},
     "output_type": "execute_result"
    }
   ],
   "source": [
    "age_cat['minutes'].pct_change().mean()"
   ]
  }
 ],
 "metadata": {
  "kernelspec": {
   "display_name": "Python 2",
   "language": "python",
   "name": "python2"
  },
  "language_info": {
   "codemirror_mode": {
    "name": "ipython",
    "version": 2
   },
   "file_extension": ".py",
   "mimetype": "text/x-python",
   "name": "python",
   "nbconvert_exporter": "python",
   "pygments_lexer": "ipython2",
   "version": "2.7.13"
  }
 },
 "nbformat": 4,
 "nbformat_minor": 2
}
